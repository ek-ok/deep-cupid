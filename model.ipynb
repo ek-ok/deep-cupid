{
 "cells": [
  {
   "cell_type": "code",
   "execution_count": 1,
   "metadata": {},
   "outputs": [
    {
     "name": "stderr",
     "output_type": "stream",
     "text": [
      "/Users/Ikkei/anaconda3/lib/python3.6/site-packages/h5py/__init__.py:36: FutureWarning: Conversion of the second argument of issubdtype from `float` to `np.floating` is deprecated. In future, it will be treated as `np.float64 == np.dtype(float).type`.\n",
      "  from ._conv import register_converters as _register_converters\n"
     ]
    },
    {
     "name": "stdout",
     "output_type": "stream",
     "text": [
      "The autoreload extension is already loaded. To reload it, use:\n",
      "  %reload_ext autoreload\n"
     ]
    }
   ],
   "source": [
    "import numpy as np\n",
    "import tensorflow as tf\n",
    "\n",
    "%load_ext autoreload\n",
    "%autoreload 2"
   ]
  },
  {
   "cell_type": "code",
   "execution_count": 2,
   "metadata": {},
   "outputs": [],
   "source": [
    "with open('data/profile_intro.csv') as f:\n",
    "    data = f.read().splitlines()\n",
    "\n",
    "text = ''.join(data)\n",
    "\n",
    "chars = sorted(set(text))\n",
    "char_to_ind = {c: i for i, c in enumerate(chars)}\n",
    "ind_to_char = {v: k for k, v in char_to_ind.items()}\n",
    "\n",
    "text_as_int = np.array([char_to_ind[c] for c in text])"
   ]
  },
  {
   "cell_type": "code",
   "execution_count": 3,
   "metadata": {},
   "outputs": [],
   "source": [
    "def generate_batches(array, batch_shape):\n",
    "    num_samples, num_chars = batch_shape\n",
    "    total_items = num_samples * num_chars\n",
    "    num_batches = int(len(array) / total_items)\n",
    "\n",
    "    # Keep the full batches and ignore the left.\n",
    "    # from (1115394,) to (1115300,)\n",
    "    array = array[:total_items*num_batches]\n",
    "\n",
    "    # from (1115300,) to (10, 111530)\n",
    "    array = array.reshape((num_samples, -1))\n",
    "\n",
    "    i = 0\n",
    "    while True:\n",
    "        x = array[:, i:i+num_chars]\n",
    "        y = np.roll(x, shift=-1, axis=1)\n",
    "        \n",
    "        if i >= (array.shape[1] - num_chars):\n",
    "            i = 0\n",
    "        else:\n",
    "            i += num_chars\n",
    "            \n",
    "        yield x, y"
   ]
  },
  {
   "cell_type": "code",
   "execution_count": 4,
   "metadata": {
    "scrolled": false
   },
   "outputs": [
    {
     "name": "stdout",
     "output_type": "stream",
     "text": [
      "step: 0 loss: 4.5517\n"
     ]
    }
   ],
   "source": [
    "from char_rnn import CharRNN\n",
    "\n",
    "\n",
    "batch_shape = (100, 100)\n",
    "batches = generate_batches(text_as_int, batch_shape)\n",
    "model = CharRNN(char_to_ind, batch_shape, rnn_size=256, num_layers=3, learning_rate=0.005, grad_clip=5)\n",
    "model.train(batches, iters=200, keep_prob=0.5)"
   ]
  },
  {
   "cell_type": "code",
   "execution_count": 6,
   "metadata": {},
   "outputs": [
    {
     "name": "stdout",
     "output_type": "stream",
     "text": [
      "INFO:tensorflow:Restoring parameters from checkpoints/i0_l256_ckpt\n",
      "Hi, I'm eiiseatae  ee e   iea taet    a a eaeatt eat  e        i  i i     e ia t  ti a     te  aa i a     ie\n"
     ]
    }
   ],
   "source": [
    "samp = model.predict(prime=\"Hi, I'm \", num_char=100)\n",
    "print(samp)"
   ]
  },
  {
   "cell_type": "code",
   "execution_count": null,
   "metadata": {},
   "outputs": [],
   "source": []
  }
 ],
 "metadata": {
  "kernelspec": {
   "display_name": "Python (dlenv)",
   "language": "python",
   "name": "dlenv"
  },
  "language_info": {
   "codemirror_mode": {
    "name": "ipython",
    "version": 3
   },
   "file_extension": ".py",
   "mimetype": "text/x-python",
   "name": "python",
   "nbconvert_exporter": "python",
   "pygments_lexer": "ipython3",
   "version": "3.6.6"
  }
 },
 "nbformat": 4,
 "nbformat_minor": 2
}
